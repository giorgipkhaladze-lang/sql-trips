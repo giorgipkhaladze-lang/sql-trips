{
  "nbformat": 4,
  "nbformat_minor": 0,
  "metadata": {
    "colab": {
      "provenance": []
    },
    "kernelspec": {
      "name": "python3",
      "display_name": "Python 3"
    },
    "language_info": {
      "name": "python"
    }
  },
  "cells": [
    {
      "cell_type": "code",
      "execution_count": 16,
      "metadata": {
        "id": "I_2NKAZUnE46"
      },
      "outputs": [],
      "source": [
        "import sqlite3\n",
        "\n",
        "conn = sqlite3.connect(\"flights.db\")\n",
        "cur = conn.cursor()"
      ]
    },
    {
      "cell_type": "code",
      "source": [
        "cur.execute(\"\"\"CREATE TABLE Passenger(\n",
        "  ID_psg INTEGER,\n",
        "  name VARCHAR(100))\"\"\")"
      ],
      "metadata": {
        "colab": {
          "base_uri": "https://localhost:8080/"
        },
        "id": "MVOM2rJ_nfFc",
        "outputId": "15ad3874-a6eb-4e9f-a5ca-da31549b5bfd"
      },
      "execution_count": 17,
      "outputs": [
        {
          "output_type": "execute_result",
          "data": {
            "text/plain": [
              "<sqlite3.Cursor at 0x7ea5fe33dec0>"
            ]
          },
          "metadata": {},
          "execution_count": 17
        }
      ]
    },
    {
      "cell_type": "code",
      "source": [
        "cur.execute(\"\"\"INSERT INTO Passenger\n",
        "VALUES (1, 'Bruce Willis'),\n",
        "       (2, 'George Clooney'),\n",
        "       (3, 'Kevin Costner'),\n",
        "       (4, 'Donald Sutherland'),\n",
        "       (5, 'Jennifer Lopez'),\n",
        "       (6, 'Ray Liotta'),\n",
        "       (7, 'Samuel L. Jackson'),\n",
        "       (8, 'Nikole Kidman'),\n",
        "       (9, 'Alan Rickman'),\n",
        "       (10, 'Kurt Russell'),\n",
        "       (11, 'Harrison Ford'),\n",
        "       (12, 'Russell Crowe'),\n",
        "       (13, 'Steve Martin'),\n",
        "       (14, 'Michael Caine'),\n",
        "       (15, 'Angelina Jolie'),\n",
        "       (16, 'Mel Gibson'),\n",
        "       (17, 'Michael Douglas'),\n",
        "       (18, 'John Travolta'),\n",
        "       (19, 'Sylvester Stallone'),\n",
        "       (20, 'Tommy Lee Jones'),\n",
        "       (21, 'Catherine Zeta-Jones'),\n",
        "       (22, 'Antonio Banderas'),\n",
        "       (23, 'Kim Basinger'),\n",
        "       (24, 'Sam Neill'),\n",
        "       (25, 'Gary Oldman'),\n",
        "       (26, 'Clint Eastwood'),\n",
        "       (27, 'Brad Pitt'),\n",
        "       (28, 'Johnny Depp'),\n",
        "       (29, 'Pierce Brosnan'),\n",
        "       (30, 'Sean Connery'),\n",
        "       (31, 'Bruce Willis'),\n",
        "       (37, 'Mullah Omar')\"\"\")"
      ],
      "metadata": {
        "colab": {
          "base_uri": "https://localhost:8080/"
        },
        "id": "7JTLw5mgnfVT",
        "outputId": "ed7e93ad-96cf-4d21-89cc-e9aeec029f01"
      },
      "execution_count": 18,
      "outputs": [
        {
          "output_type": "execute_result",
          "data": {
            "text/plain": [
              "<sqlite3.Cursor at 0x7ea5fe33dec0>"
            ]
          },
          "metadata": {},
          "execution_count": 18
        }
      ]
    },
    {
      "cell_type": "code",
      "source": [
        "conn.commit()"
      ],
      "metadata": {
        "id": "84NZbSSXnfY5"
      },
      "execution_count": 19,
      "outputs": []
    },
    {
      "cell_type": "code",
      "source": [
        "\n",
        "cur.execute(\"\"\"CREATE TABLE Pass_in_trip (\n",
        "  trip_no INTEGER,\n",
        "  date DATETIME,\n",
        "  ID_psg INTEGER,\n",
        "  place VARCHAR(100)\n",
        ")\"\"\")\n",
        "\n",
        "cur.execute(\"\"\"INSERT INTO Pass_in_trip\n",
        "VALUES (1100, '2003-04-29 00:00:00.000', 1, '1a'),\n",
        "       (1123, '2003-04-05 00:00:00.000', 3, '2a'),\n",
        "       (1123, '2003-04-08 00:00:00.000', 1, '4c'),\n",
        "       (1123, '2003-04-08 00:00:00.000', 6, '4b'),\n",
        "       (1124, '2003-04-02 00:00:00.000', 2, '2d'),\n",
        "       (1145, '2003-04-05 00:00:00.000', 3, '2c'),\n",
        "       (1181, '2003-04-01 00:00:00.000', 1, '1a'),\n",
        "       (1181, '2003-04-01 00:00:00.000', 6, '1b'),\n",
        "       (1181, '2003-04-01 00:00:00.000', 8, '3c'),\n",
        "       (1181, '2003-04-13 00:00:00.000', 5, '1b'),\n",
        "       (1182, '2003-04-13 00:00:00.000', 5, '4b'),\n",
        "       (1187, '2003-04-14 00:00:00.000', 8, '3a'),\n",
        "       (1188, '2003-04-01 00:00:00.000', 8, '3a'),\n",
        "       (1182, '2003-04-13 00:00:00.000', 9, '6d'),\n",
        "       (1145, '2003-04-25 00:00:00.000', 5, '1d'),\n",
        "       (8882, '2005-11-06 00:00:00.000', 37, '1a'),\n",
        "       (7771, '2005-11-07 00:00:00.000', 37, '1c'),\n",
        "       (7772, '2005-11-07 00:00:00.000', 37, '1a'),\n",
        "       (8881, '2005-11-08 00:00:00.000', 37, '1d'),\n",
        "       (7778, '2005-11-05 00:00:00.000', 10, '2a'),\n",
        "       (7772, '2005-11-29 00:00:00.000', 10, '3a'),\n",
        "       (7771, '2005-11-04 00:00:00.000', 11, '4a'),\n",
        "       (7771, '2005-11-07 00:00:00.000', 11, '1b'),\n",
        "       (7771, '2005-11-09 00:00:00.000', 11, '5a'),\n",
        "       (7772, '2005-11-07 00:00:00.000', 12, '1d'),\n",
        "       (7773, '2005-11-07 00:00:00.000', 13, '2d'),\n",
        "       (7772, '2005-11-29 00:00:00.000', 13, '1b'),\n",
        "       (8882, '2005-11-13 00:00:00.000', 14, '3d'),\n",
        "       (7771, '2005-11-14 00:00:00.000', 14, '4d'),\n",
        "       (7771, '2005-11-16 00:00:00.000', 14, '5d'),\n",
        "       (7772, '2005-11-29 00:00:00.000', 14, '1c'),\n",
        "       (1187, '2003-04-14 00:00:00.000', 10, '3d')\"\"\")"
      ],
      "metadata": {
        "colab": {
          "base_uri": "https://localhost:8080/"
        },
        "id": "z1zMG2yKnfcf",
        "outputId": "7379373f-bfb6-4dd6-92cc-036ad4111d96"
      },
      "execution_count": 20,
      "outputs": [
        {
          "output_type": "execute_result",
          "data": {
            "text/plain": [
              "<sqlite3.Cursor at 0x7ea5fe33dec0>"
            ]
          },
          "metadata": {},
          "execution_count": 20
        }
      ]
    },
    {
      "cell_type": "code",
      "source": [
        "conn.commit()"
      ],
      "metadata": {
        "id": "MAKJstopn4I7"
      },
      "execution_count": 21,
      "outputs": []
    },
    {
      "cell_type": "code",
      "source": [
        "cur.execute(\"\"\"\n",
        "WITH flight_counts AS (\n",
        "    SELECT p.ID_psg, p.name, COUNT(pt.trip_no) AS flight_count\n",
        "    FROM Passenger p\n",
        "    LEFT JOIN Pass_in_trip pt ON p.ID_psg = pt.ID_psg\n",
        "    GROUP BY p.ID_psg, p.name\n",
        "),\n",
        "max_flights AS (\n",
        "    SELECT MAX(flight_count) AS max_cnt FROM flight_counts\n",
        "),\n",
        "ordered AS (\n",
        "    SELECT\n",
        "        ID_psg,\n",
        "        name,\n",
        "        flight_count,\n",
        "        LAG(name) OVER (ORDER BY ID_psg)  AS prev_name,\n",
        "        LEAD(name) OVER (ORDER BY ID_psg) AS next_name,\n",
        "        FIRST_VALUE(name) OVER (ORDER BY ID_psg\n",
        "                                ROWS BETWEEN UNBOUNDED PRECEDING AND UNBOUNDED FOLLOWING) AS first_name,\n",
        "        LAST_VALUE(name)  OVER (ORDER BY ID_psg\n",
        "                                ROWS BETWEEN UNBOUNDED PRECEDING AND UNBOUNDED FOLLOWING) AS last_name\n",
        "    FROM flight_counts\n",
        ")\n",
        "SELECT\n",
        "    name,\n",
        "    COALESCE(prev_name, last_name) AS prev_passenger,\n",
        "    COALESCE(next_name, first_name) AS next_passenger\n",
        "FROM ordered o\n",
        "JOIN max_flights m ON o.flight_count = m.max_cnt\n",
        "\"\"\").fetchall()"
      ],
      "metadata": {
        "colab": {
          "base_uri": "https://localhost:8080/"
        },
        "id": "MgAYb2Otn4MR",
        "outputId": "a816fa07-ccd3-4f66-c7a0-6763fe51e0bb"
      },
      "execution_count": 22,
      "outputs": [
        {
          "output_type": "execute_result",
          "data": {
            "text/plain": [
              "[('Michael Caine', 'Steve Martin', 'Angelina Jolie'),\n",
              " ('Mullah Omar', 'Bruce Willis', 'Bruce Willis')]"
            ]
          },
          "metadata": {},
          "execution_count": 22
        }
      ]
    },
    {
      "cell_type": "code",
      "source": [],
      "metadata": {
        "id": "s6yQin2MpgJa"
      },
      "execution_count": null,
      "outputs": []
    },
    {
      "cell_type": "code",
      "source": [],
      "metadata": {
        "id": "8n9Hs6GNpgNZ"
      },
      "execution_count": null,
      "outputs": []
    },
    {
      "cell_type": "code",
      "source": [],
      "metadata": {
        "id": "0zY1VpWkn1Bi"
      },
      "execution_count": null,
      "outputs": []
    },
    {
      "cell_type": "code",
      "source": [],
      "metadata": {
        "id": "O0KU8lmXnfgK"
      },
      "execution_count": null,
      "outputs": []
    }
  ]
}